{
 "cells": [
  {
   "cell_type": "code",
   "execution_count": 1,
   "metadata": {},
   "outputs": [],
   "source": [
    "# the data is obtained from UCI Machine Learning Repository: https://archive.ics.uci.edu/ml/datasets/student+performance\n",
    "# in this notebook, I predict the math scores of secondary school students in two Portuguese schools\n",
    "# the prediction problem is a regression problem (math score is between 0 and 20 inclusive)"
   ]
  },
  {
   "cell_type": "code",
   "execution_count": 2,
   "metadata": {},
   "outputs": [
    {
     "name": "stdout",
     "output_type": "stream",
     "text": [
      "All libraries loaded successfully\n"
     ]
    }
   ],
   "source": [
    "# clear all variables, functions, etc\n",
    "%reset -f\n",
    "\n",
    "# ignore warnings\n",
    "import warnings\n",
    "warnings.filterwarnings('ignore')\n",
    "\n",
    "# import libraries\n",
    "import pandas as pd #collection of functions for data processing and analysis modeled after R dataframes with SQL like features\n",
    "import numpy as np #foundational package for scientific computing\n",
    "import matplotlib as mpl #collection of functions for scientific and publication-ready visualization\n",
    "import matplotlib.pyplot as plt\n",
    "from IPython import display #pretty printing of dataframes in Jupyter notebook\n",
    "import seaborn as sns #data visualization\n",
    "\n",
    "print('All libraries loaded successfully')\n",
    "\n",
    "# Configure Visualization Defaults\n",
    "# %matplotlib inline = show plots in Jupyter Notebook browser\n",
    "%matplotlib inline\n",
    "mpl.style.use('ggplot')\n",
    "sns.set_style('white')\n",
    "\n",
    "# Fixing random state for reproducibility\n",
    "np.random.seed(123)"
   ]
  },
  {
   "cell_type": "code",
   "execution_count": 3,
   "metadata": {},
   "outputs": [],
   "source": [
    "# import dataset\n",
    "full = pd.read_csv('../data/math_grades/student-mat.csv', sep=';')\n",
    "\n",
    "# drop select variables\n",
    "full = full.drop(['school','address'], axis=1)"
   ]
  },
  {
   "cell_type": "code",
   "execution_count": 4,
   "metadata": {},
   "outputs": [
    {
     "data": {
      "text/plain": [
       "sex           0\n",
       "age           0\n",
       "famsize       0\n",
       "Pstatus       0\n",
       "Medu          0\n",
       "Fedu          0\n",
       "Mjob          0\n",
       "Fjob          0\n",
       "reason        0\n",
       "guardian      0\n",
       "traveltime    0\n",
       "studytime     0\n",
       "failures      0\n",
       "schoolsup     0\n",
       "famsup        0\n",
       "paid          0\n",
       "activities    0\n",
       "nursery       0\n",
       "higher        0\n",
       "internet      0\n",
       "romantic      0\n",
       "famrel        0\n",
       "freetime      0\n",
       "goout         0\n",
       "Dalc          0\n",
       "Walc          0\n",
       "health        0\n",
       "absences      0\n",
       "G1            0\n",
       "G2            0\n",
       "G3            0\n",
       "dtype: int64"
      ]
     },
     "execution_count": 4,
     "metadata": {},
     "output_type": "execute_result"
    }
   ],
   "source": [
    "# check for missing values\n",
    "full.isnull().sum() # no missing values"
   ]
  },
  {
   "cell_type": "code",
   "execution_count": 5,
   "metadata": {},
   "outputs": [
    {
     "name": "stdout",
     "output_type": "stream",
     "text": [
      "-0.7326723530443435\n"
     ]
    },
    {
     "name": "stderr",
     "output_type": "stream",
     "text": [
      "C:\\Users\\USER\\Anaconda3\\lib\\site-packages\\matplotlib\\axes\\_axes.py:6462: UserWarning: The 'normed' kwarg is deprecated, and has been replaced by the 'density' kwarg.\n",
      "  warnings.warn(\"The 'normed' kwarg is deprecated, and has been \"\n"
     ]
    },
    {
     "data": {
      "image/png": "[encoded data removed]",
      "text/plain": [
       "<Figure size 432x288 with 1 Axes>"
      ]
     },
     "metadata": {},
     "output_type": "display_data"
    }
   ],
   "source": [
    "# check for data entry errors in the target variable (target variable should be between 0 and 20 inclusive)\n",
    "sns.distplot(full['G3'], kde=True) # no data entry errors\n",
    "\n",
    "# rename target variable\n",
    "full = full.rename(index=str, columns={\"G3\": \"score\"})\n",
    "\n",
    "# calculate skewness of the target variable\n",
    "print(full['score'].skew()) # target variable is moderately left-skewed (because of the zero scores); let's leave it for now"
   ]
  },
  {
   "cell_type": "code",
   "execution_count": 6,
   "metadata": {},
   "outputs": [
    {
     "data": {
      "text/plain": [
       "age                  int64\n",
       "Medu                 int64\n",
       "Fedu                 int64\n",
       "traveltime           int64\n",
       "studytime            int64\n",
       "failures             int64\n",
       "famrel               int64\n",
       "freetime             int64\n",
       "goout                int64\n",
       "Dalc                 int64\n",
       "Walc                 int64\n",
       "health               int64\n",
       "absences             int64\n",
       "G1                   int64\n",
       "G2                   int64\n",
       "score                int64\n",
       "sex_F                uint8\n",
       "sex_M                uint8\n",
       "famsize_GT3          uint8\n",
       "famsize_LE3          uint8\n",
       "Pstatus_A            uint8\n",
       "Pstatus_T            uint8\n",
       "Mjob_at_home         uint8\n",
       "Mjob_health          uint8\n",
       "Mjob_other           uint8\n",
       "Mjob_services        uint8\n",
       "Mjob_teacher         uint8\n",
       "Fjob_at_home         uint8\n",
       "Fjob_health          uint8\n",
       "Fjob_other           uint8\n",
       "Fjob_services        uint8\n",
       "Fjob_teacher         uint8\n",
       "reason_course        uint8\n",
       "reason_home          uint8\n",
       "reason_other         uint8\n",
       "reason_reputation    uint8\n",
       "guardian_father      uint8\n",
       "guardian_mother      uint8\n",
       "guardian_other       uint8\n",
       "schoolsup_no         uint8\n",
       "schoolsup_yes        uint8\n",
       "famsup_no            uint8\n",
       "famsup_yes           uint8\n",
       "paid_no              uint8\n",
       "paid_yes             uint8\n",
       "activities_no        uint8\n",
       "activities_yes       uint8\n",
       "nursery_no           uint8\n",
       "nursery_yes          uint8\n",
       "higher_no            uint8\n",
       "higher_yes           uint8\n",
       "internet_no          uint8\n",
       "internet_yes         uint8\n",
       "romantic_no          uint8\n",
       "romantic_yes         uint8\n",
       "dtype: object"
      ]
     },
     "execution_count": 6,
     "metadata": {},
     "output_type": "execute_result"
    }
   ],
   "source": [
    "# one-hot encode the categorical variables\n",
    "full = pd.get_dummies(full)\n",
    "\n",
    "# ensure all data types are now numeric\n",
    "full.dtypes"
   ]
  },
  {
   "cell_type": "code",
   "execution_count": 7,
   "metadata": {},
   "outputs": [
    {
     "name": "stdout",
     "output_type": "stream",
     "text": [
      "failures       -0.360415\n",
      "higher_no      -0.182465\n",
      "age            -0.161579\n",
      "goout          -0.132791\n",
      "romantic_yes   -0.129970\n",
      "Name: score, dtype: float64\n",
      "--------------------------------------------------\n",
      "score         1.000000\n",
      "G2            0.904868\n",
      "G1            0.801468\n",
      "Medu          0.217147\n",
      "higher_yes    0.182465\n",
      "Name: score, dtype: float64\n"
     ]
    }
   ],
   "source": [
    "# view the five variables that are most negatively correlated with the target variable\n",
    "print(full.corr()['score'].sort_values()[0:5])\n",
    "print('-'*50)\n",
    "\n",
    "# view the five variables that are most positively correlated with the target variable\n",
    "print(full.corr()['score'].sort_values(ascending=False)[0:5])"
   ]
  },
  {
   "cell_type": "code",
   "execution_count": 8,
   "metadata": {},
   "outputs": [],
   "source": [
    "# split data into train and test sets\n",
    "from sklearn import model_selection\n",
    "xtrain, xtest, ytrain, ytest = model_selection.train_test_split(full.drop(['score'], axis=1), full['score'], test_size=0.2)"
   ]
  },
  {
   "cell_type": "code",
   "execution_count": 9,
   "metadata": {},
   "outputs": [
    {
     "name": "stdout",
     "output_type": "stream",
     "text": [
      "       linreg_pred      score\n",
      "count    79.000000  79.000000\n",
      "mean     10.963842  11.025316\n",
      "std       4.308103   4.790414\n",
      "min       0.000000   0.000000\n",
      "25%       8.267578   9.000000\n",
      "50%      10.959961  12.000000\n",
      "75%      13.810547  14.000000\n",
      "max      19.385742  19.000000\n"
     ]
    },
    {
     "data": {
      "image/png": "[encoded data removed]",
      "text/plain": [
       "<Figure size 432x288 with 1 Axes>"
      ]
     },
     "metadata": {},
     "output_type": "display_data"
    },
    {
     "name": "stdout",
     "output_type": "stream",
     "text": [
      "Root mean squared error =  1.9274247368113382\n"
     ]
    }
   ],
   "source": [
    "# first model: linear regression\n",
    "from sklearn.linear_model import LinearRegression\n",
    "linreg = LinearRegression().fit(xtrain,ytrain)\n",
    "\n",
    "# generate predictions and concatenate with actual scores\n",
    "linreg_preds = linreg.predict(xtest)\n",
    "\n",
    "linreg_preds = pd.DataFrame({'linreg_pred':linreg_preds})\n",
    "linreg_preds.reset_index(drop=True, inplace=True)\n",
    "\n",
    "ytest = pd.DataFrame({'score':ytest})\n",
    "ytest.reset_index(drop=True, inplace=True)\n",
    "\n",
    "ytest_linreg_preds = pd.concat([linreg_preds,ytest],axis='columns')\n",
    "\n",
    "# clean predictions: convert <0 to 0, and >20 to 20\n",
    "ytest_linreg_preds.loc[ytest_linreg_preds['linreg_pred']<0,'linreg_pred'] = 0\n",
    "ytest_linreg_preds.loc[ytest_linreg_preds['linreg_pred']>20,'linreg_pred'] = 20\n",
    "\n",
    "# compare predicted and actual market values\n",
    "print(ytest_linreg_preds.describe())\n",
    "\n",
    "plt.hist(ytest_linreg_preds['linreg_pred'], alpha=0.5, label='predicted score (linreg)')\n",
    "plt.hist(ytest_linreg_preds['score'], alpha=0.5, label='actual score')\n",
    "plt.legend(loc='upper left')\n",
    "plt.show()\n",
    "\n",
    "# calculate root mean squared error for the test set\n",
    "print('Root mean squared error = ', np.sqrt(((ytest_linreg_preds['score'] - ytest_linreg_preds['linreg_pred'])**2).mean()))"
   ]
  },
  {
   "cell_type": "code",
   "execution_count": 10,
   "metadata": {},
   "outputs": [
    {
     "name": "stdout",
     "output_type": "stream",
     "text": [
      "       lassoreg_pred      score\n",
      "count      79.000000  79.000000\n",
      "mean       10.941992  11.025316\n",
      "std         4.184821   4.790414\n",
      "min         0.000000   0.000000\n",
      "25%         8.440114   9.000000\n",
      "50%        11.463057  12.000000\n",
      "75%        13.878350  14.000000\n",
      "max        18.951199  19.000000\n"
     ]
    },
    {
     "data": {
      "image/png": "[encoded data removed]",
      "text/plain": [
       "<Figure size 432x288 with 1 Axes>"
      ]
     },
     "metadata": {},
     "output_type": "display_data"
    },
    {
     "name": "stdout",
     "output_type": "stream",
     "text": [
      "Root mean squared error =  1.8751781767239388\n",
      "Lasso picked 9 variables and eliminated the other 45 variables\n"
     ]
    },
    {
     "data": {
      "text/plain": [
       "Text(0.5,1,'Coefficients in the Lasso Model')"
      ]
     },
     "execution_count": 10,
     "metadata": {},
     "output_type": "execute_result"
    },
    {
     "data": {
      "image/png": "[encoded data removed]",
      "text/plain": [
       "<Figure size 576x720 with 1 Axes>"
      ]
     },
     "metadata": {},
     "output_type": "display_data"
    }
   ],
   "source": [
    "# second model: lasso regression\n",
    "from sklearn.linear_model import LassoCV\n",
    "lassoreg = LassoCV(alphas = [1, 0.1, 0.01, 0.001, 0.0005]).fit(xtrain,ytrain)\n",
    "\n",
    "# generate predictions and concatenate with actual scores\n",
    "lassoreg_preds = lassoreg.predict(xtest)\n",
    "\n",
    "lassoreg_preds = pd.DataFrame({'lassoreg_pred':lassoreg_preds})\n",
    "lassoreg_preds.reset_index(drop=True, inplace=True)\n",
    "\n",
    "ytest_lassoreg_preds = pd.concat([lassoreg_preds,ytest],axis='columns')\n",
    "\n",
    "# clean predictions: convert <0 to 0, and >20 to 20\n",
    "ytest_lassoreg_preds.loc[ytest_lassoreg_preds['lassoreg_pred']<0,'lassoreg_pred'] = 0\n",
    "ytest_lassoreg_preds.loc[ytest_lassoreg_preds['lassoreg_pred']>20,'lassoreg_pred'] = 20\n",
    "\n",
    "# compare predicted and actual market values\n",
    "print(ytest_lassoreg_preds.describe())\n",
    "\n",
    "plt.hist(ytest_lassoreg_preds['lassoreg_pred'], alpha=0.5, label='predicted score (lasso)')\n",
    "plt.hist(ytest_lassoreg_preds['score'], alpha=0.5, label='actual score')\n",
    "plt.legend(loc='upper left')\n",
    "plt.show()\n",
    "\n",
    "# calculate root mean squared error for the test set\n",
    "print('Root mean squared error = ', np.sqrt(((ytest_lassoreg_preds['score'] - ytest_lassoreg_preds['lassoreg_pred'])**2).mean()))\n",
    "\n",
    "# check how many variables were dropped by lasso regression\n",
    "coef = pd.Series(lassoreg.coef_, index = xtrain.columns)\n",
    "print(\"Lasso picked \" + str(sum(coef != 0)) + \" variables and eliminated the other \" +  str(sum(coef == 0)) + \" variables\")\n",
    "\n",
    "# view the coefficients on the variables that weren't dropped by lasso regression\n",
    "nonzero_coef = pd.DataFrame({'lasso coefficient': coef[coef!=0].sort_values()})\n",
    "mpl.rcParams['figure.figsize'] = (8.0, 10.0)\n",
    "nonzero_coef.plot(kind = \"barh\")\n",
    "plt.title(\"Coefficients in the Lasso Model\")"
   ]
  },
  {
   "cell_type": "code",
   "execution_count": 11,
   "metadata": {},
   "outputs": [
    {
     "name": "stdout",
     "output_type": "stream",
     "text": [
      "the optimized hyperparameters are:  {'max_depth': 15, 'max_features': 'sqrt', 'n_estimators': 300}\n",
      "after optimization, the mean training MSE is: 0.8033\n",
      "after optimization, the mean validation MSE is: 5.7444\n",
      "Root mean squared error =  2.138987329342314\n"
     ]
    },
    {
     "data": {
      "image/png": "[encoded data removed]",
      "text/plain": [
       "<Figure size 576x720 with 1 Axes>"
      ]
     },
     "metadata": {},
     "output_type": "display_data"
    }
   ],
   "source": [
    "# third model: random forest\n",
    "from sklearn.ensemble import RandomForestRegressor\n",
    "\n",
    "# use random search to optimize the hyperparameters, while building the optimal model concurrently\n",
    "from scipy.stats import randint\n",
    "from scipy.stats import uniform\n",
    "\n",
    "param_dist = {'max_depth': randint(5,30),\n",
    "              'n_estimators': [300],\n",
    "              'max_features': ['sqrt']\n",
    "             }\n",
    "\n",
    "tune_model = model_selection.RandomizedSearchCV(RandomForestRegressor(n_jobs=-1),\n",
    "                                                param_distributions=param_dist,\n",
    "                                                scoring = \"neg_mean_squared_error\",\n",
    "                                                cv = 5,\n",
    "                                                n_iter = 10) # number of iterations of random search\n",
    "\n",
    "tune_model.fit(xtrain, ytrain)\n",
    "\n",
    "#print(tune_model.cv_results_['params'])\n",
    "print('the optimized hyperparameters are: ', tune_model.best_params_)\n",
    "#print(tune_model.cv_results_['mean_train_score'])\n",
    "print(\"after optimization, the mean training MSE is: {:.4f}\". format(-tune_model.cv_results_['mean_train_score'][tune_model.best_index_])) \n",
    "#print(tune_model.cv_results_['mean_test_score'])\n",
    "print(\"after optimization, the mean validation MSE is: {:.4f}\". format(-tune_model.cv_results_['mean_test_score'][tune_model.best_index_]))\n",
    "\n",
    "# use optimized hyperparameters to build random forest\n",
    "my_rf = RandomForestRegressor(n_jobs = -1, # fully utilize the cores on your computer\n",
    "                              n_estimators = tune_model.best_params_['n_estimators'], # number of trees\n",
    "                              max_features = tune_model.best_params_['max_features'], # number of features to consider at each split\n",
    "                              max_depth = tune_model.best_params_['max_depth']) # maximum tree depth\n",
    "\n",
    "# fit the random forest\n",
    "rf_model1 = my_rf.fit(xtrain,ytrain)\n",
    "\n",
    "# view feature importances\n",
    "feature_importances = pd.Series(rf_model1.feature_importances_, index=xtrain.columns)\n",
    "feature_importances = feature_importances.sort_values(ascending=False) # sort from highest to lowest importance; for pandas dataframe sorting, refer to https://pandas.pydata.org/pandas-docs/stable/generated/pandas.DataFrame.sort_values.html\n",
    "feature_importances.nlargest(10).plot(kind='barh')\n",
    "\n",
    "# generate predictions and concatenate with actual scores\n",
    "rf_preds = rf_model1.predict(xtest)\n",
    "\n",
    "rf_preds = pd.DataFrame({'rf_pred':rf_preds})\n",
    "rf_preds.reset_index(drop=True, inplace=True)\n",
    "\n",
    "ytest_rf_preds = pd.concat([rf_preds,ytest],axis='columns')\n",
    "\n",
    "# clean predictions: convert <0 to 0, and >20 to 20\n",
    "ytest_rf_preds.loc[ytest_rf_preds['rf_pred']<0,'rf_pred'] = 0\n",
    "ytest_rf_preds.loc[ytest_rf_preds['rf_pred']>20,'rf_pred'] = 20\n",
    "\n",
    "# calculate root mean squared error for the test set\n",
    "print('Root mean squared error = ', np.sqrt(((ytest_rf_preds['score'] - ytest_rf_preds['rf_pred'])**2).mean()))"
   ]
  },
  {
   "cell_type": "code",
   "execution_count": null,
   "metadata": {},
   "outputs": [],
   "source": []
  }
 ],
 "metadata": {
  "kernelspec": {
   "display_name": "Python 3",
   "language": "python",
   "name": "python3"
  },
  "language_info": {
   "codemirror_mode": {
    "name": "ipython",
    "version": 3
   },
   "file_extension": ".py",
   "mimetype": "text/x-python",
   "name": "python",
   "nbconvert_exporter": "python",
   "pygments_lexer": "ipython3",
   "version": "3.6.5"
  }
 },
 "nbformat": 4,
 "nbformat_minor": 2
}
